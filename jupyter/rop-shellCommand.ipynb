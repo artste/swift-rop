{
 "cells": [
  {
   "attachments": {},
   "cell_type": "markdown",
   "metadata": {},
   "source": [
    "# R.O.P: Example shellCommand\n",
    "\n",
    "This is a reimplementation of fast.ai\" shellCommand with ROP.\n",
    "The goal is th be \"aware\" of **good** and **bad** result, with details.\n",
    "\n"
   ]
  },
  {
   "cell_type": "markdown",
   "metadata": {},
   "source": [
    "## TL;DR\n",
    "This complete example shows how to use ROP to create a \"shellCommand\" utility funciton that is aware of bot errors (misspelled commands and exceptions) and command result (standard unix convention where:'0' means OK).\n",
    "\n",
    "```swift\n",
    "func countNumberOfFilesInCurrentFolder() -> Result<Int> {\n",
    "    return shellCommandROP(\"/bin/pwd\")\n",
    "        .then{pwd in pwd.replacingOccurrences(of: \"\\n\", with: \"\")} // Use previous result \n",
    "        .then{pwd in shellCommandROP(\"/bin/ls\", [pwd])} // Use the clean string to search files\n",
    "        .then(myLinesCounter)\n",
    "}\n",
    "let complexResult = countNumberOfFilesInCurrentFolder(); \n",
    "printResult(\"The count of number of files in ls is:\", complexResult)\n",
    "```\n",
    "> The count of number of files in ls is: 3"
   ]
  },
  {
   "cell_type": "markdown",
   "metadata": {},
   "source": [
    "## ROP: everything is there"
   ]
  },
  {
   "cell_type": "code",
   "execution_count": 1,
   "metadata": {},
   "outputs": [],
   "source": [
    "//Export\n",
    "protocol DescriptiveError {\n",
    "    func errorMessage()->String\n",
    "}\n",
    "\n",
    "struct SimpleError: DescriptiveError {\n",
    "    let msg: String // Immutable\n",
    "    init(_ msg: String) { self.msg = msg }\n",
    "    func errorMessage() -> String { return msg }\n",
    "}\n",
    "\n",
    "enum Result<OK> {\n",
    "    case Ok(OK)\n",
    "    case Error(DescriptiveError) // We always want an error that follows this protocol\n",
    "    \n",
    "    // Methods and Properties\n",
    "    var value: OK? {\n",
    "        get {\n",
    "            switch self {\n",
    "                case .Ok(let value): return value\n",
    "                case .Error(_): return nil // Don't need the value\n",
    "            }\n",
    "        }\n",
    "    }    \n",
    "    var error: String? {\n",
    "        get {\n",
    "            switch self {\n",
    "                case .Ok(_): return nil\n",
    "                case .Error(let err): return err.errorMessage()\n",
    "            }\n",
    "        }\n",
    "    }\n",
    "    //MAP: spark of magic..\n",
    "    func then<OUT>(_ f: (OK)->OUT ) -> Result<OUT> {\n",
    "        switch self {\n",
    "            case .Ok(let val): return Result<OUT>.Ok(f(val))\n",
    "            case .Error(let err): return Result<OUT>.Error(err) // Forward error\n",
    "        }\n",
    "    }\n",
    "    //FLAT MAT: the real magic of monad! \n",
    "    func then<OUT>(_ f: (OK)->Result<OUT> ) -> Result<OUT> {\n",
    "        switch self {\n",
    "            case .Ok(let val): return f(val)\n",
    "            case .Error(let err): return Result<OUT>.Error(err) // Forward error\n",
    "        }\n",
    "    }\n",
    "    //TAP: result snooping \n",
    "    func use(_ f: (OK)->() ) -> Result<OK> {\n",
    "        switch self {\n",
    "            case .Ok(let val): f(val)\n",
    "            case .Error(let err): print(\"ERROR HAS HAPPENED: \\(err.errorMessage())\")\n",
    "        }\n",
    "        return self\n",
    "    }\n",
    "    //Convenience\n",
    "    func isOk() -> Bool {\n",
    "        switch self {\n",
    "            case .Ok: return true\n",
    "            case .Error: return false\n",
    "        }\n",
    "    }\n",
    "}\n",
    "\n",
    "//Convenience factory functions as static to quick find them with auto completition...\n",
    "func good<T>(_ value: T) -> Result<T> {\n",
    "    return .Ok(value) // Thnx Chris ;-)\n",
    "}\n",
    "func bad<T>(_ msg: String) -> Result<T> {\n",
    "    return .Error(SimpleError(msg)) // Thnx Chris ;-)\n",
    "}\n",
    "//Create bad result from generic DescriptiveError\n",
    "func bad<T>(_ err: DescriptiveError) -> Result<T> {\n",
    "    return Result<T>.Error(err)\n",
    "}\n",
    "//Forwards errors adapting type to destination...\n",
    "func bad<T,P>(_ parent: Result<P>) -> Result<T> {\n",
    "    switch parent {\n",
    "        case .Ok: return bad(\"WARNING: parent was not bad!\") // good goes bad!! Warning!!\n",
    "        case .Error(let val): return Result<T>.Error(val) // bad remains bad...\n",
    "    }\n",
    "}"
   ]
  },
  {
   "cell_type": "markdown",
   "metadata": {},
   "source": [
    "# Shell Command with ROP"
   ]
  },
  {
   "cell_type": "code",
   "execution_count": 2,
   "metadata": {},
   "outputs": [],
   "source": [
    "//export\n",
    "struct ShellCommandError: DescriptiveError {\n",
    "    let code: Int32 // Immutable\n",
    "    let msg: String // Immutable\n",
    "    init(_ code: Int32, _ msg: String) { \n",
    "        self.code = code\n",
    "        self.msg = msg \n",
    "    }\n",
    "    func errorMessage() -> String { return \"[\\(code)]: \\(msg)\" }\n",
    "}"
   ]
  },
  {
   "cell_type": "code",
   "execution_count": 3,
   "metadata": {},
   "outputs": [],
   "source": [
    "//export\n",
    "import Foundation"
   ]
  },
  {
   "cell_type": "code",
   "execution_count": 4,
   "metadata": {},
   "outputs": [],
   "source": [
    "//export\n",
    "@discardableResult\n",
    "public func shellCommandROP(_ launchPath: String, _ arguments: [String] = []) -> Result<String>\n",
    "{\n",
    "    let task = Process()\n",
    "    task.executableURL = URL(fileURLWithPath: launchPath)\n",
    "    task.arguments = arguments\n",
    "\n",
    "    let pipe = Pipe(); task.standardOutput = pipe\n",
    "    let errPipe = Pipe(); task.standardError = errPipe\n",
    "    do {\n",
    "        try task.run()\n",
    "        task.waitUntilExit()\n",
    "        let data = pipe.fileHandleForReading.readDataToEndOfFile()\n",
    "        let stdErr = errPipe.fileHandleForReading.readDataToEndOfFile()\n",
    "        let text = String(data: data, encoding: String.Encoding.utf8) ?? \"\"\n",
    "        let err = String(data: stdErr, encoding: String.Encoding.utf8) ?? \"\"\n",
    "        if 0==task.terminationStatus {\n",
    "            return good(text)\n",
    "        } else {\n",
    "            // Don't use the standard \"bad\" result, but keep termination status...\n",
    "            return bad(ShellCommandError(task.terminationStatus, err))\n",
    "        }\n",
    "    } catch {\n",
    "        return bad(\"ERROR: \\(error).\") // Incredible, to convert it I've just changed print to \"bad\"\n",
    "    }\n",
    "}"
   ]
  },
  {
   "cell_type": "markdown",
   "metadata": {},
   "source": [
    "**IMPORTANT**: Now our shellCommand is \"aware of errors\". So all the time we call it we're going to understand if something **good** or **bad** has happened and **why** it happened."
   ]
  },
  {
   "cell_type": "code",
   "execution_count": 5,
   "metadata": {},
   "outputs": [
    {
     "name": "stdout",
     "output_type": "stream",
     "text": [
      "Was last command successful?! Answer: true\r\n"
     ]
    }
   ],
   "source": [
    "let resultOfGoodShellCommand = shellCommandROP(\"/bin/ls\", [\"-lh\"])\n",
    "print(\"Was last command successful?! Answer: \\(resultOfGoodShellCommand.isOk())\")"
   ]
  },
  {
   "cell_type": "code",
   "execution_count": 6,
   "metadata": {},
   "outputs": [
    {
     "name": "stdout",
     "output_type": "stream",
     "text": [
      "Was last command successful?! Answer: false\r\n"
     ]
    }
   ],
   "source": [
    "let resultOfMispellShellCommand = shellCommandROP(\"/bin/wtf\", [\"-lh\"]) // wtf is not a command\n",
    "print(\"Was last command successful?! Answer: \\(resultOfMispellShellCommand.isOk())\")"
   ]
  },
  {
   "cell_type": "code",
   "execution_count": 7,
   "metadata": {},
   "outputs": [
    {
     "name": "stdout",
     "output_type": "stream",
     "text": [
      "Was last command successful?! Answer: false\r\n",
      "What's happened? Answer: [2]: /bin/ls: cannot access '/wtf': No such file or directory\r\n",
      "\r\n"
     ]
    }
   ],
   "source": [
    "let resultOfGoodShellCommandWithBadResult = shellCommandROP(\"/bin/ls\", [\"-lh\",\"/wtf\"]) // wtf is not a folder\n",
    "print(\"Was last command successful?! Answer: \\(resultOfGoodShellCommandWithBadResult.isOk())\")\n",
    "print(\"What's happened? Answer: \\(resultOfGoodShellCommandWithBadResult.error!)\")"
   ]
  },
  {
   "cell_type": "markdown",
   "metadata": {},
   "source": [
    "## Try shellCommand"
   ]
  },
  {
   "cell_type": "code",
   "execution_count": 8,
   "metadata": {},
   "outputs": [],
   "source": [
    "func printResult<OK>(_ msg: String, _ result: Result<OK>) {\n",
    "    switch result {\n",
    "        case .Ok(let val): print(msg, val)\n",
    "        case .Error(let err): print(msg, \"ERROR:\", err.errorMessage())\n",
    "    }\n",
    "}"
   ]
  },
  {
   "cell_type": "code",
   "execution_count": 9,
   "metadata": {},
   "outputs": [
    {
     "name": "stdout",
     "output_type": "stream",
     "text": [
      "1) create the folder /notebooks/swift-rop/jupyter/tmp Ok(\"\")\n",
      "2) list files in the folder Ok(\"\")\n",
      "3) create the file /notebooks/swift-rop/jupyter/tmp/test.txt Ok(\"\")\n",
      "4) run non existent command Error(__lldb_expr_15.SimpleError(msg: \"ERROR: The operation could not be completed.\"))\n",
      "5) list files again. Folder content: total 0\n",
      "-rw-r--r-- 1 root root 0 Apr 26 16:04 test.txt\n",
      "\n",
      "6) remove the file Ok(\"\")\n",
      "7) Folder content: total 0\n",
      "\n",
      "8) remove the folder Ok(\"\")\n",
      "8) try to list files in deleted folder Error(__lldb_expr_21.ShellCommandError(code: 2, msg: \"/bin/ls: cannot access \\'/notebooks/swift-rop/jupyter/tmp\\': No such file or directory\\n\"))\n"
     ]
    }
   ],
   "source": [
    "let theFolder = \"/notebooks/swift-rop/jupyter/tmp\"\n",
    "let theFile = theFolder + \"/test.txt\"\n",
    "print(\"1) create the folder \\(theFolder)\",shellCommandROP(\"/bin/mkdir\",[theFolder]))\n",
    "print(\"2) list files in the folder\",shellCommandROP(\"/bin/ls\", [theFolder])) \n",
    "print(\"3) create the file \\(theFile)\",shellCommandROP(\"/bin/touch\", [theFile])) \n",
    "print(\"4) run non existent command\",shellCommandROP(\"/bin/wtf\", [theFile])) // wtf is not a command\n",
    "printResult(\"5) list files again. Folder content:\",shellCommandROP(\"/bin/ls\", [\"-lh\",theFolder])) // list files in new folder\n",
    "print(\"6) remove the file\",shellCommandROP(\"/bin/rm\", [\"-rf\", theFile]))\n",
    "printResult(\"7) Folder content:\",shellCommandROP(\"/bin/ls\", [\"-lh\",theFolder])) // list files in new folder\n",
    "print(\"8) remove the folder\",shellCommandROP(\"/bin/rmdir\",[theFolder]))\n",
    "print(\"8) try to list files in deleted folder\",shellCommandROP(\"/bin/ls\", [theFolder]))"
   ]
  },
  {
   "cell_type": "markdown",
   "metadata": {},
   "source": [
    "## Let's compose!"
   ]
  },
  {
   "cell_type": "code",
   "execution_count": 10,
   "metadata": {},
   "outputs": [
    {
     "name": "stdout",
     "output_type": "stream",
     "text": [
      "3\r\n"
     ]
    }
   ],
   "source": [
    "// Some support functions\n",
    "func logString(_ str: String) {\n",
    "    print(\"> LOG: '\\(str)'\")\n",
    "}\n",
    "\n",
    "func myLinesCounter(_ str: String) -> Int {\n",
    "    return str.reduce(into: 0) { (count, ch) in if ch == \"\\n\" { count += 1 } } + 1 \n",
    "}\n",
    "\n",
    "//Test\n",
    "print(myLinesCounter(\"Theese\\nare\\nthree lines\"))"
   ]
  },
  {
   "cell_type": "code",
   "execution_count": 11,
   "metadata": {},
   "outputs": [
    {
     "name": "stdout",
     "output_type": "stream",
     "text": [
      "1) Run on existing folder: 3\r\n",
      "2) Run on wrong folder:  ERROR: [2]: /bin/ls: cannot access '/wtf': No such file or directory\r\n",
      "\r\n"
     ]
    }
   ],
   "source": [
    "func countNumberOfFilesInFolder(_ folder: String) -> Result<Int> {\n",
    "    return shellCommandROP(\"/bin/ls\", [folder])\n",
    "            .then(myLinesCounter)\n",
    "}\n",
    "printResult(\"1) Run on existing folder:\", countNumberOfFilesInFolder(\"/notebooks/swift-rop/jupyter\"))\n",
    "printResult(\"2) Run on wrong folder: \", countNumberOfFilesInFolder(\"/wtf\"))"
   ]
  },
  {
   "cell_type": "code",
   "execution_count": 12,
   "metadata": {},
   "outputs": [
    {
     "name": "stdout",
     "output_type": "stream",
     "text": [
      "The count of number of files in ls is: 3\r\n"
     ]
    }
   ],
   "source": [
    "func countNumberOfFilesInCurrentFolder() -> Result<Int> {\n",
    "    return shellCommandROP(\"/bin/pwd\")\n",
    "        .then{pwd in pwd.replacingOccurrences(of: \"\\n\", with: \"\")} // The result of previous command is the input \n",
    "        .then{pwd in shellCommandROP(\"/bin/ls\", [pwd])} // Use the clean string to search files\n",
    "        .then(myLinesCounter)\n",
    "}\n",
    "let complexResult = countNumberOfFilesInCurrentFolder(); \n",
    "printResult(\"The count of number of files in ls is:\", complexResult)"
   ]
  },
  {
   "cell_type": "code",
   "execution_count": 13,
   "metadata": {},
   "outputs": [
    {
     "name": "stdout",
     "output_type": "stream",
     "text": [
      "> LOG: '/notebooks/swift-rop/jupyter\n",
      "'\n",
      "> Note that there is an extra new line on the result...\n",
      "> LOG: '/notebooks/swift-rop/jupyter'\n",
      "> Nom more extra lie end: we're done!\n",
      "The count of number of files in ls is: 3\n"
     ]
    }
   ],
   "source": [
    "func countNumberOfFilesInCurrentFolderWithLog() -> Result<Int> {\n",
    "    return shellCommandROP(\"/bin/pwd\")\n",
    "        .use(logString) // take a look\n",
    "        .use{_ in print(\"> Note that there is an extra new line on the result...\")} // take a look\n",
    "        .then{pwd in pwd.replacingOccurrences(of: \"\\n\", with: \"\")} // Clean pwd output\n",
    "        .use(logString) // take a look\n",
    "        .use{_ in print(\"> Nom more extra lie end: we're done!\")} // take a look\n",
    "        .then{pwd in shellCommandROP(\"/bin/ls\", [pwd])}\n",
    "        .then(myLinesCounter)\n",
    "}\n",
    "printResult(\"The count of number of files in ls is:\", countNumberOfFilesInCurrentFolderWithLog())"
   ]
  },
  {
   "cell_type": "code",
   "execution_count": null,
   "metadata": {},
   "outputs": [],
   "source": []
  }
 ],
 "metadata": {
  "kernelspec": {
   "display_name": "Swift",
   "language": "swift",
   "name": "swift"
  },
  "language_info": {
   "file_extension": ".swift",
   "mimetype": "text/x-swift",
   "name": "swift",
   "version": ""
  }
 },
 "nbformat": 4,
 "nbformat_minor": 2
}
