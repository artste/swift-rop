{
 "cells": [
  {
   "cell_type": "markdown",
   "metadata": {},
   "source": [
    "# R.O.P Example: \"ack\" command wrapper using shellCommandROP\n",
    "\n",
    "This is an example of how to \"wrap\" a unix command with shellCommandROP."
   ]
  },
  {
   "cell_type": "markdown",
   "metadata": {},
   "source": [
    "## TL;DR\n",
    "Wrapper of \"ack\" command made with shellCommand."
   ]
  },
  {
   "cell_type": "markdown",
   "metadata": {},
   "source": [
    "## Prerequisites"
   ]
  },
  {
   "cell_type": "markdown",
   "metadata": {},
   "source": [
    "You need \"ack\" installed in your machine:\n",
    "\n",
    "> sudo apt-get install ack"
   ]
  },
  {
   "cell_type": "markdown",
   "metadata": {},
   "source": [
    "## ROP and shellCommandROP: everything is there"
   ]
  },
  {
   "cell_type": "code",
   "execution_count": 1,
   "metadata": {},
   "outputs": [
    {
     "name": "stdout",
     "output_type": "stream",
     "text": [
      "Installing packages:\n",
      "\t.package(path: \"/notebooks/swift-rop/jupyter/..\")\n",
      "\t\tRop\n",
      "With SwiftPM flags: []\n",
      "Working in: /tmp/tmpkbaaov68/swift-install\n",
      "Compile Swift Module 'jupyterInstalledPackages' (1 sources)\n",
      "Initializing Swift...\n",
      "Installation complete!\n"
     ]
    }
   ],
   "source": [
    "%install-location $cwd/swift-install\n",
    "%install '.package(path: \"$cwd/..\")' Rop"
   ]
  },
  {
   "cell_type": "code",
   "execution_count": 2,
   "metadata": {},
   "outputs": [],
   "source": [
    "import Rop"
   ]
  },
  {
   "cell_type": "markdown",
   "metadata": {},
   "source": [
    "# Ack wrapper"
   ]
  },
  {
   "cell_type": "markdown",
   "metadata": {},
   "source": [
    "### Support functions"
   ]
  },
  {
   "cell_type": "code",
   "execution_count": 3,
   "metadata": {},
   "outputs": [],
   "source": [
    "//export \n",
    "func unixPwd() -> String {\n",
    "    return shell(\"/bin/pwd\")    \n",
    "        .then{pwd in pwd.replacingOccurrences(of: \"\\n\", with: \"\")} // Clean pwd output form extra \"\\n\"\n",
    "        .value! // Should be safe: usually pwd is not null ;-)\n",
    "}"
   ]
  },
  {
   "cell_type": "code",
   "execution_count": 4,
   "metadata": {},
   "outputs": [
    {
     "name": "stdout",
     "output_type": "stream",
     "text": [
      "'/notebooks/swift-rop/jupyter'\r\n"
     ]
    }
   ],
   "source": [
    "print(\"'\\(unixPwd())'\")"
   ]
  },
  {
   "cell_type": "code",
   "execution_count": 5,
   "metadata": {},
   "outputs": [],
   "source": [
    "//export \n",
    "\n",
    "//act as doc in functional languages ;-) \n",
    "typealias AckResult = (fileName: String, row: Int, sample: String)\n",
    "\n",
    "func processLine(_ src: String) -> AckResult {\n",
    "    let tmp = src.split(separator: \":\", maxSplits: 2, omittingEmptySubsequences: true)\n",
    "    if tmp.count >= 3 {\n",
    "        let file = String(tmp[0])\n",
    "        let line = Int(tmp[1])! // Prtty sure it's a number\n",
    "        let sample = String(tmp[2])\n",
    "        return (fileName: file, row: line, sample: sample)\n",
    "    } else {\n",
    "        return (fileName: \"?\", row: 0, sample: \"?\")\n",
    "    }\n",
    "}"
   ]
  },
  {
   "cell_type": "code",
   "execution_count": 6,
   "metadata": {},
   "outputs": [
    {
     "name": "stdout",
     "output_type": "stream",
     "text": [
      "IN: /notebooks/fastai_docs/dev_swift/FastaiNotebook_08_data_block/Sources/FastaiNotebook_08_data_block/04_callbacks.swift:72:/// A model learner, responsible for initializing and training a model on a given dataset.\r\n",
      "OUT: (fileName: \"/notebooks/fastai_docs/dev_swift/FastaiNotebook_08_data_block/Sources/FastaiNotebook_08_data_block/04_callbacks.swift\", row: 72, sample: \"/// A model learner, responsible for initializing and training a model on a given dataset.\")\r\n",
      "OUT WITH ERRORS: (fileName: \"?\", row: 0, sample: \"?\")\r\n"
     ]
    }
   ],
   "source": [
    "func test_processLine() {\n",
    "    let sampleLine = \"/notebooks/fastai_docs/dev_swift/FastaiNotebook_08_data_block/Sources/FastaiNotebook_08_data_block/04_callbacks.swift:72:/// A model learner, responsible for initializing and training a model on a given dataset.\"\n",
    "    print(\"IN:\", sampleLine)\n",
    "    print(\"OUT:\", processLine(sampleLine))\n",
    "    print(\"OUT WITH ERRORS:\", processLine(\"asdas dasd adas dasdas\"))\n",
    "}\n",
    "test_processLine()"
   ]
  },
  {
   "cell_type": "markdown",
   "metadata": {},
   "source": [
    "### ack implementation"
   ]
  },
  {
   "cell_type": "code",
   "execution_count": 7,
   "metadata": {},
   "outputs": [],
   "source": [
    "//export\n",
    "import Foundation\n",
    "\n",
    "typealias AckResults = Result<[AckResult]>\n",
    "\n",
    "func printAckResults(ackrRes: AckResults, printFullPath: Bool) {\n",
    "    // Should check for errors...\n",
    "    if let ackr=ackrRes.value {\n",
    "        for row in ackr {\n",
    "            let theFileName = (printFullPath) ? row.fileName : (row.fileName as NSString).lastPathComponent\n",
    "            print(theFileName, \"R:\\(row.row)\", row.sample)\n",
    "        }\n",
    "    } else {\n",
    "        print(\">> No results found <<\")\n",
    "    }\n",
    "}\n",
    "\n",
    "func ack(word: String, path: String? = nil, caseInsensitive: Bool = true, show: Bool = true, printFullPath: Bool = false) -> AckResults {\n",
    "    let thePath = path ?? unixPwd()\n",
    "    let args = good([word, thePath])\n",
    "        .then{args in caseInsensitive ? args + [\"-i\"] : args}\n",
    "    let ret = shell(\"/usr/bin/ack\", args.value!)\n",
    "        .then{str in str.components(separatedBy: \"\\n\")}\n",
    "        //.use{lines in print(lines)} // Debug\n",
    "        .then{lines in lines.map(processLine)}    \n",
    "        .then{rets in rets.filter{r in r.fileName != \"?\"}} // Filtering out errors\n",
    "        .then{rets in (rets.count>0) ? good(rets) : bad(\"No results found\")} // No resuls is \"bad\" ;-) \n",
    "    if show {\n",
    "        if ret.isOk() {\n",
    "            printAckResults(ackrRes: ret, printFullPath: printFullPath)\n",
    "        }\n",
    "    }\n",
    "    return ret\n",
    "}"
   ]
  },
  {
   "cell_type": "markdown",
   "metadata": {},
   "source": [
    "Let's make some tests..."
   ]
  },
  {
   "cell_type": "code",
   "execution_count": 8,
   "metadata": {},
   "outputs": [
    {
     "ename": "",
     "evalue": "",
     "output_type": "error",
     "traceback": [
      "error: Execution was interrupted, reason: signal SIGSTOP.\nThe process has been left at the point where it was interrupted, use \"thread return -x\" to return to the state before expression evaluation.\n"
     ]
    }
   ],
   "source": [
    "ack(word: \"float\") // Search in current folder"
   ]
  },
  {
   "cell_type": "code",
   "execution_count": 9,
   "metadata": {},
   "outputs": [
    {
     "name": "stdout",
     "output_type": "stream",
     "text": [
      "08_data_block.swift R:251 public struct CNNModel: Layer {\r\n",
      "06_cuda.swift R:21 public struct CnnModel: Layer {\r\n",
      "07_batchnorm.swift R:118 public struct CnnModelBN: Layer {\r\n",
      "04_callbacks.swift R:10 public struct BasicModel: Layer {\r\n",
      "04_callbacks.swift R:72 /// A model learner, responsible for initializing and training a model on a given dataset.\r\n",
      "04_callbacks.swift R:76           Opt.Model: Layer,\r\n",
      "04_callbacks.swift R:77           // Constrain model input to Tensor<Float>, to work around\r\n",
      "04_callbacks.swift R:79           Opt.Model.Input == Tensor<Float>\r\n",
      "04_callbacks.swift R:82     public typealias Model = Opt.Model\r\n",
      "04_callbacks.swift R:83     public typealias Input = Model.Input\r\n",
      "04_callbacks.swift R:84     public typealias Output = Model.Output\r\n",
      "04_callbacks.swift R:88     public typealias Variables = Model.AllDifferentiableVariables\r\n",
      "04_callbacks.swift R:94         public typealias F = @differentiable (Model.Output, @nondiff Label) -> Loss\r\n",
      "04_callbacks.swift R:99     /// The dataset on which the model will be trained.\r\n",
      "04_callbacks.swift R:101     /// The optimizer used for updating model parameters along gradient vectors.\r\n",
      "04_callbacks.swift R:105     /// The model being trained.\r\n",
      "04_callbacks.swift R:106     public var model: Model\r\n",
      "04_callbacks.swift R:118     public private(set) var currentGradient: Model.CotangentVector = .zero\r\n",
      "04_callbacks.swift R:135         /// The completion of model training.\r\n",
      "04_callbacks.swift R:141         /// A closure which will be called upon the start of model validation.\r\n",
      "04_callbacks.swift R:165     ///   - optimizer: The optimizer used for updating model parameters.\r\n",
      "04_callbacks.swift R:166     ///   - modelInitializer: The closure that produces the model to be trained.\r\n",
      "04_callbacks.swift R:169                 optFunc: (Model) -> Optimizer,\r\n",
      "04_callbacks.swift R:170                 modelInit: () -> Model) {\r\n",
      "04_callbacks.swift R:173         model = modelInit()\r\n",
      "04_callbacks.swift R:174         opt = optFunc(self.model)\r\n",
      "04_callbacks.swift R:179     /// Trains the model on the given batch.\r\n",
      "04_callbacks.swift R:184         currentOutput = model(currentInput!)\r\n",
      "04_callbacks.swift R:190         (currentLoss, currentGradient) = model.valueWithGradient { model -> Loss in \r\n",
      "04_callbacks.swift R:191             let y = model(xb)                                      \r\n",
      "04_callbacks.swift R:196         opt.update(&model.allDifferentiableVariables, along: self.currentGradient)\r\n"
     ]
    },
    {
     "data": {
      "text/plain": [
       "▿ Result<Array<(fileName: String, row: Int, sample: String)>>\n",
       "  ▿ Ok : 31 elements\n",
       "    ▿ 0 : 3 elements\n",
       "      - fileName : \"/notebooks/fastai_docs/dev_swift/FastaiNotebook_08_data_block/Sources/FastaiNotebook_08_data_block/08_data_block.swift\"\n",
       "      - row : 251\n",
       "      - sample : \"public struct CNNModel: Layer {\"\n",
       "    ▿ 1 : 3 elements\n",
       "      - fileName : \"/notebooks/fastai_docs/dev_swift/FastaiNotebook_08_data_block/Sources/FastaiNotebook_08_data_block/06_cuda.swift\"\n",
       "      - row : 21\n",
       "      - sample : \"public struct CnnModel: Layer {\"\n",
       "    ▿ 2 : 3 elements\n",
       "      - fileName : \"/notebooks/fastai_docs/dev_swift/FastaiNotebook_08_data_block/Sources/FastaiNotebook_08_data_block/07_batchnorm.swift\"\n",
       "      - row : 118\n",
       "      - sample : \"public struct CnnModelBN: Layer {\"\n",
       "    ▿ 3 : 3 elements\n",
       "      - fileName : \"/notebooks/fastai_docs/dev_swift/FastaiNotebook_08_data_block/Sources/FastaiNotebook_08_data_block/04_callbacks.swift\"\n",
       "      - row : 10\n",
       "      - sample : \"public struct BasicModel: Layer {\"\n",
       "    ▿ 4 : 3 elements\n",
       "      - fileName : \"/notebooks/fastai_docs/dev_swift/FastaiNotebook_08_data_block/Sources/FastaiNotebook_08_data_block/04_callbacks.swift\"\n",
       "      - row : 72\n",
       "      - sample : \"/// A model learner, responsible for initializing and training a model on a given dataset.\"\n",
       "    ▿ 5 : 3 elements\n",
       "      - fileName : \"/notebooks/fastai_docs/dev_swift/FastaiNotebook_08_data_block/Sources/FastaiNotebook_08_data_block/04_callbacks.swift\"\n",
       "      - row : 76\n",
       "      - sample : \"          Opt.Model: Layer,\"\n",
       "    ▿ 6 : 3 elements\n",
       "      - fileName : \"/notebooks/fastai_docs/dev_swift/FastaiNotebook_08_data_block/Sources/FastaiNotebook_08_data_block/04_callbacks.swift\"\n",
       "      - row : 77\n",
       "      - sample : \"          // Constrain model input to Tensor<Float>, to work around\"\n",
       "    ▿ 7 : 3 elements\n",
       "      - fileName : \"/notebooks/fastai_docs/dev_swift/FastaiNotebook_08_data_block/Sources/FastaiNotebook_08_data_block/04_callbacks.swift\"\n",
       "      - row : 79\n",
       "      - sample : \"          Opt.Model.Input == Tensor<Float>\"\n",
       "    ▿ 8 : 3 elements\n",
       "      - fileName : \"/notebooks/fastai_docs/dev_swift/FastaiNotebook_08_data_block/Sources/FastaiNotebook_08_data_block/04_callbacks.swift\"\n",
       "      - row : 82\n",
       "      - sample : \"    public typealias Model = Opt.Model\"\n",
       "    ▿ 9 : 3 elements\n",
       "      - fileName : \"/notebooks/fastai_docs/dev_swift/FastaiNotebook_08_data_block/Sources/FastaiNotebook_08_data_block/04_callbacks.swift\"\n",
       "      - row : 83\n",
       "      - sample : \"    public typealias Input = Model.Input\"\n",
       "    ▿ 10 : 3 elements\n",
       "      - fileName : \"/notebooks/fastai_docs/dev_swift/FastaiNotebook_08_data_block/Sources/FastaiNotebook_08_data_block/04_callbacks.swift\"\n",
       "      - row : 84\n",
       "      - sample : \"    public typealias Output = Model.Output\"\n",
       "    ▿ 11 : 3 elements\n",
       "      - fileName : \"/notebooks/fastai_docs/dev_swift/FastaiNotebook_08_data_block/Sources/FastaiNotebook_08_data_block/04_callbacks.swift\"\n",
       "      - row : 88\n",
       "      - sample : \"    public typealias Variables = Model.AllDifferentiableVariables\"\n",
       "    ▿ 12 : 3 elements\n",
       "      - fileName : \"/notebooks/fastai_docs/dev_swift/FastaiNotebook_08_data_block/Sources/FastaiNotebook_08_data_block/04_callbacks.swift\"\n",
       "      - row : 94\n",
       "      - sample : \"        public typealias F = @differentiable (Model.Output, @nondiff Label) -> Loss\"\n",
       "    ▿ 13 : 3 elements\n",
       "      - fileName : \"/notebooks/fastai_docs/dev_swift/FastaiNotebook_08_data_block/Sources/FastaiNotebook_08_data_block/04_callbacks.swift\"\n",
       "      - row : 99\n",
       "      - sample : \"    /// The dataset on which the model will be trained.\"\n",
       "    ▿ 14 : 3 elements\n",
       "      - fileName : \"/notebooks/fastai_docs/dev_swift/FastaiNotebook_08_data_block/Sources/FastaiNotebook_08_data_block/04_callbacks.swift\"\n",
       "      - row : 101\n",
       "      - sample : \"    /// The optimizer used for updating model parameters along gradient vectors.\"\n",
       "    ▿ 15 : 3 elements\n",
       "      - fileName : \"/notebooks/fastai_docs/dev_swift/FastaiNotebook_08_data_block/Sources/FastaiNotebook_08_data_block/04_callbacks.swift\"\n",
       "      - row : 105\n",
       "      - sample : \"    /// The model being trained.\"\n",
       "    ▿ 16 : 3 elements\n",
       "      - fileName : \"/notebooks/fastai_docs/dev_swift/FastaiNotebook_08_data_block/Sources/FastaiNotebook_08_data_block/04_callbacks.swift\"\n",
       "      - row : 106\n",
       "      - sample : \"    public var model: Model\"\n",
       "    ▿ 17 : 3 elements\n",
       "      - fileName : \"/notebooks/fastai_docs/dev_swift/FastaiNotebook_08_data_block/Sources/FastaiNotebook_08_data_block/04_callbacks.swift\"\n",
       "      - row : 118\n",
       "      - sample : \"    public private(set) var currentGradient: Model.CotangentVector = .zero\"\n",
       "    ▿ 18 : 3 elements\n",
       "      - fileName : \"/notebooks/fastai_docs/dev_swift/FastaiNotebook_08_data_block/Sources/FastaiNotebook_08_data_block/04_callbacks.swift\"\n",
       "      - row : 135\n",
       "      - sample : \"        /// The completion of model training.\"\n",
       "    ▿ 19 : 3 elements\n",
       "      - fileName : \"/notebooks/fastai_docs/dev_swift/FastaiNotebook_08_data_block/Sources/FastaiNotebook_08_data_block/04_callbacks.swift\"\n",
       "      - row : 141\n",
       "      - sample : \"        /// A closure which will be called upon the start of model validation.\"\n",
       "    ▿ 20 : 3 elements\n",
       "      - fileName : \"/notebooks/fastai_docs/dev_swift/FastaiNotebook_08_data_block/Sources/FastaiNotebook_08_data_block/04_callbacks.swift\"\n",
       "      - row : 165\n",
       "      - sample : \"    ///   - optimizer: The optimizer used for updating model parameters.\"\n",
       "    ▿ 21 : 3 elements\n",
       "      - fileName : \"/notebooks/fastai_docs/dev_swift/FastaiNotebook_08_data_block/Sources/FastaiNotebook_08_data_block/04_callbacks.swift\"\n",
       "      - row : 166\n",
       "      - sample : \"    ///   - modelInitializer: The closure that produces the model to be trained.\"\n",
       "    ▿ 22 : 3 elements\n",
       "      - fileName : \"/notebooks/fastai_docs/dev_swift/FastaiNotebook_08_data_block/Sources/FastaiNotebook_08_data_block/04_callbacks.swift\"\n",
       "      - row : 169\n",
       "      - sample : \"                optFunc: (Model) -> Optimizer,\"\n",
       "    ▿ 23 : 3 elements\n",
       "      - fileName : \"/notebooks/fastai_docs/dev_swift/FastaiNotebook_08_data_block/Sources/FastaiNotebook_08_data_block/04_callbacks.swift\"\n",
       "      - row : 170\n",
       "      - sample : \"                modelInit: () -> Model) {\"\n",
       "    ▿ 24 : 3 elements\n",
       "      - fileName : \"/notebooks/fastai_docs/dev_swift/FastaiNotebook_08_data_block/Sources/FastaiNotebook_08_data_block/04_callbacks.swift\"\n",
       "      - row : 173\n",
       "      - sample : \"        model = modelInit()\"\n",
       "    ▿ 25 : 3 elements\n",
       "      - fileName : \"/notebooks/fastai_docs/dev_swift/FastaiNotebook_08_data_block/Sources/FastaiNotebook_08_data_block/04_callbacks.swift\"\n",
       "      - row : 174\n",
       "      - sample : \"        opt = optFunc(self.model)\"\n",
       "    ▿ 26 : 3 elements\n",
       "      - fileName : \"/notebooks/fastai_docs/dev_swift/FastaiNotebook_08_data_block/Sources/FastaiNotebook_08_data_block/04_callbacks.swift\"\n",
       "      - row : 179\n",
       "      - sample : \"    /// Trains the model on the given batch.\"\n",
       "    ▿ 27 : 3 elements\n",
       "      - fileName : \"/notebooks/fastai_docs/dev_swift/FastaiNotebook_08_data_block/Sources/FastaiNotebook_08_data_block/04_callbacks.swift\"\n",
       "      - row : 184\n",
       "      - sample : \"        currentOutput = model(currentInput!)\"\n",
       "    ▿ 28 : 3 elements\n",
       "      - fileName : \"/notebooks/fastai_docs/dev_swift/FastaiNotebook_08_data_block/Sources/FastaiNotebook_08_data_block/04_callbacks.swift\"\n",
       "      - row : 190\n",
       "      - sample : \"        (currentLoss, currentGradient) = model.valueWithGradient { model -> Loss in \"\n",
       "    ▿ 29 : 3 elements\n",
       "      - fileName : \"/notebooks/fastai_docs/dev_swift/FastaiNotebook_08_data_block/Sources/FastaiNotebook_08_data_block/04_callbacks.swift\"\n",
       "      - row : 191\n",
       "      - sample : \"            let y = model(xb)                                      \"\n",
       "    ▿ 30 : 3 elements\n",
       "      - fileName : \"/notebooks/fastai_docs/dev_swift/FastaiNotebook_08_data_block/Sources/FastaiNotebook_08_data_block/04_callbacks.swift\"\n",
       "      - row : 196\n",
       "      - sample : \"        opt.update(&model.allDifferentiableVariables, along: self.currentGradient)\"\n"
      ]
     },
     "execution_count": 9,
     "metadata": {},
     "output_type": "execute_result"
    }
   ],
   "source": [
    "ack(word: \"model\", path: \"/notebooks/fastai_docs/dev_swift/FastaiNotebook_08_data_block\") // Search in folder"
   ]
  },
  {
   "cell_type": "code",
   "execution_count": 10,
   "metadata": {},
   "outputs": [
    {
     "name": "stdout",
     "output_type": "stream",
     "text": [
      "05b_early_stopping.swift R:25         // A learning rate schedule from step to float.\r\n",
      "04_callbacks.swift R:123     /// The current epoch + iteration, float between 0.0 and epochCount\r\n",
      "05_anneal.swift R:150         // A learning rate schedule from step to float.\r\n"
     ]
    },
    {
     "data": {
      "text/plain": [
       "▿ Result<Array<(fileName: String, row: Int, sample: String)>>\n",
       "  ▿ Ok : 3 elements\n",
       "    ▿ 0 : 3 elements\n",
       "      - fileName : \"/notebooks/fastai_docs/dev_swift/FastaiNotebook_08_data_block/Sources/FastaiNotebook_08_data_block/05b_early_stopping.swift\"\n",
       "      - row : 25\n",
       "      - sample : \"        // A learning rate schedule from step to float.\"\n",
       "    ▿ 1 : 3 elements\n",
       "      - fileName : \"/notebooks/fastai_docs/dev_swift/FastaiNotebook_08_data_block/Sources/FastaiNotebook_08_data_block/04_callbacks.swift\"\n",
       "      - row : 123\n",
       "      - sample : \"    /// The current epoch + iteration, float between 0.0 and epochCount\"\n",
       "    ▿ 2 : 3 elements\n",
       "      - fileName : \"/notebooks/fastai_docs/dev_swift/FastaiNotebook_08_data_block/Sources/FastaiNotebook_08_data_block/05_anneal.swift\"\n",
       "      - row : 150\n",
       "      - sample : \"        // A learning rate schedule from step to float.\"\n"
      ]
     },
     "execution_count": 10,
     "metadata": {},
     "output_type": "execute_result"
    }
   ],
   "source": [
    "// Search case sensitive\n",
    "ack(word: \"float\", path: \"/notebooks/fastai_docs/dev_swift/FastaiNotebook_08_data_block\", caseInsensitive: false)"
   ]
  },
  {
   "cell_type": "code",
   "execution_count": 11,
   "metadata": {},
   "outputs": [
    {
     "name": "stdout",
     "output_type": "stream",
     "text": [
      "/notebooks/fastai_docs/dev_swift/FastaiNotebook_08_data_block/Sources/FastaiNotebook_08_data_block/05b_early_stopping.swift R:25         // A learning rate schedule from step to float.\r\n",
      "/notebooks/fastai_docs/dev_swift/FastaiNotebook_08_data_block/Sources/FastaiNotebook_08_data_block/04_callbacks.swift R:123     /// The current epoch + iteration, float between 0.0 and epochCount\r\n",
      "/notebooks/fastai_docs/dev_swift/FastaiNotebook_08_data_block/Sources/FastaiNotebook_08_data_block/05_anneal.swift R:150         // A learning rate schedule from step to float.\r\n"
     ]
    },
    {
     "data": {
      "text/plain": [
       "▿ Result<Array<(fileName: String, row: Int, sample: String)>>\n",
       "  ▿ Ok : 3 elements\n",
       "    ▿ 0 : 3 elements\n",
       "      - fileName : \"/notebooks/fastai_docs/dev_swift/FastaiNotebook_08_data_block/Sources/FastaiNotebook_08_data_block/05b_early_stopping.swift\"\n",
       "      - row : 25\n",
       "      - sample : \"        // A learning rate schedule from step to float.\"\n",
       "    ▿ 1 : 3 elements\n",
       "      - fileName : \"/notebooks/fastai_docs/dev_swift/FastaiNotebook_08_data_block/Sources/FastaiNotebook_08_data_block/04_callbacks.swift\"\n",
       "      - row : 123\n",
       "      - sample : \"    /// The current epoch + iteration, float between 0.0 and epochCount\"\n",
       "    ▿ 2 : 3 elements\n",
       "      - fileName : \"/notebooks/fastai_docs/dev_swift/FastaiNotebook_08_data_block/Sources/FastaiNotebook_08_data_block/05_anneal.swift\"\n",
       "      - row : 150\n",
       "      - sample : \"        // A learning rate schedule from step to float.\"\n"
      ]
     },
     "execution_count": 11,
     "metadata": {},
     "output_type": "execute_result"
    }
   ],
   "source": [
    "// Full path on result\n",
    "ack(word: \"float\", path: \"/notebooks/fastai_docs/dev_swift/FastaiNotebook_08_data_block\", caseInsensitive: false, printFullPath: true)"
   ]
  },
  {
   "cell_type": "code",
   "execution_count": 12,
   "metadata": {},
   "outputs": [
    {
     "data": {
      "text/plain": [
       "▿ Result<Array<(fileName: String, row: Int, sample: String)>>\n",
       "  ▿ Error : ShellCommandError\n",
       "    - code : 1\n",
       "    - msg : \"\"\n"
      ]
     },
     "execution_count": 12,
     "metadata": {},
     "output_type": "execute_result"
    }
   ],
   "source": [
    "ack(word: \"xxxx\" + String(Int.random(in: 0 ..< 10))) // No result"
   ]
  },
  {
   "cell_type": "code",
   "execution_count": 13,
   "metadata": {},
   "outputs": [
    {
     "data": {
      "text/plain": [
       "▿ Result<Array<(fileName: String, row: Int, sample: String)>>\n",
       "  ▿ Error : ShellCommandError\n",
       "    - code : 1\n",
       "    - msg : \"ack: /asd/asd: No such file or directory\\n\"\n"
      ]
     },
     "execution_count": 13,
     "metadata": {},
     "output_type": "execute_result"
    }
   ],
   "source": [
    "ack(word: \"xxxx\", path: \"/asd/asd\") // Wrong folder"
   ]
  },
  {
   "cell_type": "code",
   "execution_count": 14,
   "metadata": {},
   "outputs": [
    {
     "name": "stdout",
     "output_type": "stream",
     "text": [
      "Was last result successfull?? true\r\n"
     ]
    }
   ],
   "source": [
    "//No output\n",
    "let ret = ack(word: \"model\", path: \"/notebooks/fastai_docs/dev_swift/FastaiNotebook_08_data_block\", show: false)\n",
    "print(\"Was last result successfull??\", ret.isOk())"
   ]
  },
  {
   "cell_type": "code",
   "execution_count": null,
   "metadata": {},
   "outputs": [],
   "source": []
  }
 ],
 "metadata": {
  "kernelspec": {
   "display_name": "Swift",
   "language": "swift",
   "name": "swift"
  },
  "language_info": {
   "file_extension": ".swift",
   "mimetype": "text/x-swift",
   "name": "swift",
   "version": ""
  }
 },
 "nbformat": 4,
 "nbformat_minor": 2
}
