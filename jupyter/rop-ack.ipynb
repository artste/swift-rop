{
 "cells": [
  {
   "cell_type": "markdown",
   "metadata": {},
   "source": [
    "# R.O.P: Example ack command wrapper using shellCommandROP\n",
    "\n",
    "This is a reimplementation of fast.ai\" shellCommand with ROP.\n",
    "The goal is th be \"aware\" of **good** and **bad** result, with details.\n",
    "\n"
   ]
  },
  {
   "cell_type": "markdown",
   "metadata": {},
   "source": [
    "## TL;DR\n",
    "Wrapper of \"ack\" command made with shellCommand."
   ]
  },
  {
   "cell_type": "markdown",
   "metadata": {},
   "source": [
    "## ROP and shellCommandROP: everything is there"
   ]
  },
  {
   "cell_type": "code",
   "execution_count": 1,
   "metadata": {},
   "outputs": [],
   "source": [
    "//Export\n",
    "public protocol DescriptiveError {\n",
    "    func errorMessage()->String\n",
    "}\n",
    "\n",
    "public struct SimpleError: DescriptiveError {\n",
    "    let msg: String // Immutable\n",
    "    init(_ msg: String) { self.msg = msg }\n",
    "    public func errorMessage() -> String { return msg }\n",
    "}\n",
    "\n",
    "public enum Result<OK> {\n",
    "    case Ok(OK)\n",
    "    case Error(DescriptiveError) // We always want an error that follows this protocol\n",
    "    \n",
    "    // Methods and Properties\n",
    "    var value: OK? {\n",
    "        get {\n",
    "            switch self {\n",
    "                case .Ok(let value): return value\n",
    "                case .Error(_): return nil // Don't need the value\n",
    "            }\n",
    "        }\n",
    "    }    \n",
    "    var error: String? {\n",
    "        get {\n",
    "            switch self {\n",
    "                case .Ok(_): return nil\n",
    "                case .Error(let err): return err.errorMessage()\n",
    "            }\n",
    "        }\n",
    "    }\n",
    "    //MAP: spark of magic..\n",
    "    func then<OUT>(_ f: (OK)->OUT ) -> Result<OUT> {\n",
    "        switch self {\n",
    "            case .Ok(let val): return Result<OUT>.Ok(f(val))\n",
    "            case .Error(let err): return Result<OUT>.Error(err) // Forward error\n",
    "        }\n",
    "    }\n",
    "    //FLAT MAT: the real magic of monad! \n",
    "    func then<OUT>(_ f: (OK)->Result<OUT> ) -> Result<OUT> {\n",
    "        switch self {\n",
    "            case .Ok(let val): return f(val)\n",
    "            case .Error(let err): return Result<OUT>.Error(err) // Forward error\n",
    "        }\n",
    "    }\n",
    "    //TAP: result snooping \n",
    "    func use(_ f: (OK)->() ) -> Result<OK> {\n",
    "        switch self {\n",
    "            case .Ok(let val): f(val)\n",
    "            case .Error(let err): print(\"ERROR HAS HAPPENED: \\(err.errorMessage())\")\n",
    "        }\n",
    "        return self\n",
    "    }\n",
    "    //Convenience\n",
    "    func isOk() -> Bool {\n",
    "        switch self {\n",
    "            case .Ok: return true\n",
    "            case .Error: return false\n",
    "        }\n",
    "    }\n",
    "}\n",
    "\n",
    "//Convenience factory functions as static to quick find them with auto completition...\n",
    "public func good<T>(_ value: T) -> Result<T> {\n",
    "    return .Ok(value) // Thnx Chris ;-)\n",
    "}\n",
    "public func bad<T>(_ msg: String) -> Result<T> {\n",
    "    return .Error(SimpleError(msg)) // Thnx Chris ;-)\n",
    "}\n",
    "//Create bad result from generic DescriptiveError\n",
    "public func bad<T>(_ err: DescriptiveError) -> Result<T> {\n",
    "    return Result<T>.Error(err)\n",
    "}\n",
    "//Forwards errors adapting type to destination...\n",
    "public func bad<T,P>(_ parent: Result<P>) -> Result<T> {\n",
    "    switch parent {\n",
    "        case .Ok: return bad(\"WARNING: parent was not bad!\") // good goes bad!! Warning!!\n",
    "        case .Error(let val): return Result<T>.Error(val) // bad remains bad...\n",
    "    }\n",
    "}\n",
    "\n",
    "//export\n",
    "public struct ShellCommandError: DescriptiveError {\n",
    "    let code: Int32 // Immutable\n",
    "    let msg: String // Immutable\n",
    "    init(_ code: Int32, _ msg: String) { \n",
    "        self.code = code\n",
    "        self.msg = msg \n",
    "    }\n",
    "    public func errorMessage() -> String { return \"[\\(code)]: \\(msg)\" }\n",
    "}\n",
    "\n",
    "//export\n",
    "import Foundation\n",
    "\n",
    "//export\n",
    "@discardableResult\n",
    "public func shellCommandROP(_ launchPath: String, _ arguments: [String] = []) -> Result<String>\n",
    "{\n",
    "    let task = Process()\n",
    "    task.executableURL = URL(fileURLWithPath: launchPath)\n",
    "    task.arguments = arguments\n",
    "\n",
    "    let pipe = Pipe(); task.standardOutput = pipe\n",
    "    let errPipe = Pipe(); task.standardError = errPipe\n",
    "    do {\n",
    "        try task.run()\n",
    "        task.waitUntilExit()\n",
    "        let data = pipe.fileHandleForReading.readDataToEndOfFile()\n",
    "        let stdErr = errPipe.fileHandleForReading.readDataToEndOfFile()\n",
    "        let text = String(data: data, encoding: String.Encoding.utf8) ?? \"\"\n",
    "        let err = String(data: stdErr, encoding: String.Encoding.utf8) ?? \"\"\n",
    "        if 0==task.terminationStatus {\n",
    "            return good(text)\n",
    "        } else {\n",
    "            // Don't use the standard \"bad\" result, but keep termination status...\n",
    "            return bad(ShellCommandError(task.terminationStatus, err))\n",
    "        }\n",
    "    } catch {\n",
    "        return bad(\"ERROR: \\(error).\") // Incredible, to convert it I've just changed print to \"bad\"\n",
    "    }\n",
    "}"
   ]
  },
  {
   "cell_type": "markdown",
   "metadata": {},
   "source": [
    "# Ack wrapper"
   ]
  },
  {
   "cell_type": "markdown",
   "metadata": {},
   "source": [
    "### Support functions"
   ]
  },
  {
   "cell_type": "code",
   "execution_count": 2,
   "metadata": {},
   "outputs": [],
   "source": [
    "//export \n",
    "func unixPwd() -> String {\n",
    "    return shellCommandROP(\"/bin/pwd\")    \n",
    "        .then{pwd in pwd.replacingOccurrences(of: \"\\n\", with: \"\")} // Clean pwd output form extra \"\\n\"\n",
    "        .value! // Should be safe: usually pwd is not null ;-)\n",
    "}"
   ]
  },
  {
   "cell_type": "code",
   "execution_count": 3,
   "metadata": {},
   "outputs": [
    {
     "name": "stdout",
     "output_type": "stream",
     "text": [
      "'/notebooks/swift-rop/jupyter'\r\n"
     ]
    }
   ],
   "source": [
    "print(\"'\\(unixPwd())'\")"
   ]
  },
  {
   "cell_type": "code",
   "execution_count": 4,
   "metadata": {},
   "outputs": [],
   "source": [
    "//export \n",
    "\n",
    "//act as doc in functional languages ;-) \n",
    "typealias FileName = String\n",
    "typealias RowNumber = Int\n",
    "typealias SampleText = String\n",
    "typealias AckResult = (FileName, RowNumber, SampleText)\n",
    "\n",
    "func processLine(_ src: String) -> AckResult {\n",
    "    let tmp = src.split(separator: \":\", maxSplits: 2, omittingEmptySubsequences: true)\n",
    "    if tmp.count >= 3 {\n",
    "        let file = String(tmp[0])\n",
    "        let line = Int(tmp[1])! // Prtty sure it's a number\n",
    "        let sample = String(tmp[2])\n",
    "        return (file, line, sample)\n",
    "    } else {\n",
    "        return (\"?\", 0, \"?\")\n",
    "    }\n",
    "}"
   ]
  },
  {
   "cell_type": "code",
   "execution_count": 5,
   "metadata": {},
   "outputs": [
    {
     "name": "stdout",
     "output_type": "stream",
     "text": [
      "IN: /notebooks/fastai_docs/dev_swift/FastaiNotebook_08_data_block/Sources/FastaiNotebook_08_data_block/04_callbacks.swift:72:/// A model learner, responsible for initializing and training a model on a given dataset.\r\n",
      "OUT: (\"/notebooks/fastai_docs/dev_swift/FastaiNotebook_08_data_block/Sources/FastaiNotebook_08_data_block/04_callbacks.swift\", 72, \"/// A model learner, responsible for initializing and training a model on a given dataset.\")\r\n",
      "OUT WITH ERRORS: (\"?\", 0, \"?\")\r\n"
     ]
    }
   ],
   "source": [
    "func test_processLine() {\n",
    "    let sampleLine = \"/notebooks/fastai_docs/dev_swift/FastaiNotebook_08_data_block/Sources/FastaiNotebook_08_data_block/04_callbacks.swift:72:/// A model learner, responsible for initializing and training a model on a given dataset.\"\n",
    "    print(\"IN:\", sampleLine)\n",
    "    print(\"OUT:\", processLine(sampleLine))\n",
    "    print(\"OUT WITH ERRORS:\", processLine(\"asdas dasd adas dasdas\"))\n",
    "}\n",
    "test_processLine()"
   ]
  },
  {
   "cell_type": "markdown",
   "metadata": {},
   "source": [
    "### ack implementation"
   ]
  },
  {
   "cell_type": "code",
   "execution_count": 6,
   "metadata": {},
   "outputs": [],
   "source": [
    "//export\n",
    "typealias AckResults = Result<[AckResult]>\n",
    "\n",
    "func printAckResults(ackrRes: AckResults) {\n",
    "    // Should check for errors...\n",
    "    if let ackr=ackrRes.value {\n",
    "        for row in ackr {\n",
    "            let theFileName = (row.0 as NSString).lastPathComponent\n",
    "            print(theFileName, \"R:\\(row.1)\", row.2)\n",
    "        }\n",
    "    } else {\n",
    "        print(\">> No results found <<\")\n",
    "    }\n",
    "}\n",
    "\n",
    "func ack(word: String, path: String? = nil, caseInsensitive: Bool = true, show: Bool = true) -> AckResults {\n",
    "    let thePath = path ?? unixPwd()\n",
    "    let args = good([word, thePath])\n",
    "        .then{args in caseInsensitive ? args + [\"-i\"] : args}\n",
    "    let ret = shellCommandROP(\"/usr/bin/ack\", args.value!)\n",
    "        .then{str in str.components(separatedBy: \"\\n\")}\n",
    "        //.use{lines in print(lines)} // Debug\n",
    "        .then{lines in lines.map(processLine)}    \n",
    "        .then{rets in rets.filter{r in r.0 != \"?\"}} // Filtering out errors\n",
    "        .then{rets in (rets.count>0) ? good(rets) : bad(\"No results found\")} // No resuls is \"bad\" ;-) \n",
    "    if show {\n",
    "        if ret.isOk() {\n",
    "            printAckResults(ackrRes: ret)\n",
    "        }\n",
    "    }\n",
    "    return ret\n",
    "}"
   ]
  },
  {
   "cell_type": "markdown",
   "metadata": {},
   "source": [
    "Let's make some tests..."
   ]
  },
  {
   "cell_type": "code",
   "execution_count": null,
   "metadata": {},
   "outputs": [],
   "source": [
    "ack(word: \"float\") // Search in current folder"
   ]
  },
  {
   "cell_type": "code",
   "execution_count": 9,
   "metadata": {},
   "outputs": [
    {
     "name": "stdout",
     "output_type": "stream",
     "text": [
      "08_data_block.swift R:251 public struct CNNModel: Layer {\r\n",
      "06_cuda.swift R:21 public struct CnnModel: Layer {\r\n",
      "07_batchnorm.swift R:118 public struct CnnModelBN: Layer {\r\n",
      "04_callbacks.swift R:10 public struct BasicModel: Layer {\r\n",
      "04_callbacks.swift R:72 /// A model learner, responsible for initializing and training a model on a given dataset.\r\n",
      "04_callbacks.swift R:76           Opt.Model: Layer,\r\n",
      "04_callbacks.swift R:77           // Constrain model input to Tensor<Float>, to work around\r\n",
      "04_callbacks.swift R:79           Opt.Model.Input == Tensor<Float>\r\n",
      "04_callbacks.swift R:82     public typealias Model = Opt.Model\r\n",
      "04_callbacks.swift R:83     public typealias Input = Model.Input\r\n",
      "04_callbacks.swift R:84     public typealias Output = Model.Output\r\n",
      "04_callbacks.swift R:88     public typealias Variables = Model.AllDifferentiableVariables\r\n",
      "04_callbacks.swift R:94         public typealias F = @differentiable (Model.Output, @nondiff Label) -> Loss\r\n",
      "04_callbacks.swift R:99     /// The dataset on which the model will be trained.\r\n",
      "04_callbacks.swift R:101     /// The optimizer used for updating model parameters along gradient vectors.\r\n",
      "04_callbacks.swift R:105     /// The model being trained.\r\n",
      "04_callbacks.swift R:106     public var model: Model\r\n",
      "04_callbacks.swift R:118     public private(set) var currentGradient: Model.CotangentVector = .zero\r\n",
      "04_callbacks.swift R:135         /// The completion of model training.\r\n",
      "04_callbacks.swift R:141         /// A closure which will be called upon the start of model validation.\r\n",
      "04_callbacks.swift R:165     ///   - optimizer: The optimizer used for updating model parameters.\r\n",
      "04_callbacks.swift R:166     ///   - modelInitializer: The closure that produces the model to be trained.\r\n",
      "04_callbacks.swift R:169                 optFunc: (Model) -> Optimizer,\r\n",
      "04_callbacks.swift R:170                 modelInit: () -> Model) {\r\n",
      "04_callbacks.swift R:173         model = modelInit()\r\n",
      "04_callbacks.swift R:174         opt = optFunc(self.model)\r\n",
      "04_callbacks.swift R:179     /// Trains the model on the given batch.\r\n",
      "04_callbacks.swift R:184         currentOutput = model(currentInput!)\r\n",
      "04_callbacks.swift R:190         (currentLoss, currentGradient) = model.valueWithGradient { model -> Loss in \r\n",
      "04_callbacks.swift R:191             let y = model(xb)                                      \r\n",
      "04_callbacks.swift R:196         opt.update(&model.allDifferentiableVariables, along: self.currentGradient)\r\n"
     ]
    },
    {
     "data": {
      "text/plain": [
       "▿ Result<Array<(String, Int, String)>>\n",
       "  ▿ Ok : 31 elements\n",
       "    ▿ 0 : 3 elements\n",
       "      - .0 : \"/notebooks/fastai_docs/dev_swift/FastaiNotebook_08_data_block/Sources/FastaiNotebook_08_data_block/08_data_block.swift\"\n",
       "      - .1 : 251\n",
       "      - .2 : \"public struct CNNModel: Layer {\"\n",
       "    ▿ 1 : 3 elements\n",
       "      - .0 : \"/notebooks/fastai_docs/dev_swift/FastaiNotebook_08_data_block/Sources/FastaiNotebook_08_data_block/06_cuda.swift\"\n",
       "      - .1 : 21\n",
       "      - .2 : \"public struct CnnModel: Layer {\"\n",
       "    ▿ 2 : 3 elements\n",
       "      - .0 : \"/notebooks/fastai_docs/dev_swift/FastaiNotebook_08_data_block/Sources/FastaiNotebook_08_data_block/07_batchnorm.swift\"\n",
       "      - .1 : 118\n",
       "      - .2 : \"public struct CnnModelBN: Layer {\"\n",
       "    ▿ 3 : 3 elements\n",
       "      - .0 : \"/notebooks/fastai_docs/dev_swift/FastaiNotebook_08_data_block/Sources/FastaiNotebook_08_data_block/04_callbacks.swift\"\n",
       "      - .1 : 10\n",
       "      - .2 : \"public struct BasicModel: Layer {\"\n",
       "    ▿ 4 : 3 elements\n",
       "      - .0 : \"/notebooks/fastai_docs/dev_swift/FastaiNotebook_08_data_block/Sources/FastaiNotebook_08_data_block/04_callbacks.swift\"\n",
       "      - .1 : 72\n",
       "      - .2 : \"/// A model learner, responsible for initializing and training a model on a given dataset.\"\n",
       "    ▿ 5 : 3 elements\n",
       "      - .0 : \"/notebooks/fastai_docs/dev_swift/FastaiNotebook_08_data_block/Sources/FastaiNotebook_08_data_block/04_callbacks.swift\"\n",
       "      - .1 : 76\n",
       "      - .2 : \"          Opt.Model: Layer,\"\n",
       "    ▿ 6 : 3 elements\n",
       "      - .0 : \"/notebooks/fastai_docs/dev_swift/FastaiNotebook_08_data_block/Sources/FastaiNotebook_08_data_block/04_callbacks.swift\"\n",
       "      - .1 : 77\n",
       "      - .2 : \"          // Constrain model input to Tensor<Float>, to work around\"\n",
       "    ▿ 7 : 3 elements\n",
       "      - .0 : \"/notebooks/fastai_docs/dev_swift/FastaiNotebook_08_data_block/Sources/FastaiNotebook_08_data_block/04_callbacks.swift\"\n",
       "      - .1 : 79\n",
       "      - .2 : \"          Opt.Model.Input == Tensor<Float>\"\n",
       "    ▿ 8 : 3 elements\n",
       "      - .0 : \"/notebooks/fastai_docs/dev_swift/FastaiNotebook_08_data_block/Sources/FastaiNotebook_08_data_block/04_callbacks.swift\"\n",
       "      - .1 : 82\n",
       "      - .2 : \"    public typealias Model = Opt.Model\"\n",
       "    ▿ 9 : 3 elements\n",
       "      - .0 : \"/notebooks/fastai_docs/dev_swift/FastaiNotebook_08_data_block/Sources/FastaiNotebook_08_data_block/04_callbacks.swift\"\n",
       "      - .1 : 83\n",
       "      - .2 : \"    public typealias Input = Model.Input\"\n",
       "    ▿ 10 : 3 elements\n",
       "      - .0 : \"/notebooks/fastai_docs/dev_swift/FastaiNotebook_08_data_block/Sources/FastaiNotebook_08_data_block/04_callbacks.swift\"\n",
       "      - .1 : 84\n",
       "      - .2 : \"    public typealias Output = Model.Output\"\n",
       "    ▿ 11 : 3 elements\n",
       "      - .0 : \"/notebooks/fastai_docs/dev_swift/FastaiNotebook_08_data_block/Sources/FastaiNotebook_08_data_block/04_callbacks.swift\"\n",
       "      - .1 : 88\n",
       "      - .2 : \"    public typealias Variables = Model.AllDifferentiableVariables\"\n",
       "    ▿ 12 : 3 elements\n",
       "      - .0 : \"/notebooks/fastai_docs/dev_swift/FastaiNotebook_08_data_block/Sources/FastaiNotebook_08_data_block/04_callbacks.swift\"\n",
       "      - .1 : 94\n",
       "      - .2 : \"        public typealias F = @differentiable (Model.Output, @nondiff Label) -> Loss\"\n",
       "    ▿ 13 : 3 elements\n",
       "      - .0 : \"/notebooks/fastai_docs/dev_swift/FastaiNotebook_08_data_block/Sources/FastaiNotebook_08_data_block/04_callbacks.swift\"\n",
       "      - .1 : 99\n",
       "      - .2 : \"    /// The dataset on which the model will be trained.\"\n",
       "    ▿ 14 : 3 elements\n",
       "      - .0 : \"/notebooks/fastai_docs/dev_swift/FastaiNotebook_08_data_block/Sources/FastaiNotebook_08_data_block/04_callbacks.swift\"\n",
       "      - .1 : 101\n",
       "      - .2 : \"    /// The optimizer used for updating model parameters along gradient vectors.\"\n",
       "    ▿ 15 : 3 elements\n",
       "      - .0 : \"/notebooks/fastai_docs/dev_swift/FastaiNotebook_08_data_block/Sources/FastaiNotebook_08_data_block/04_callbacks.swift\"\n",
       "      - .1 : 105\n",
       "      - .2 : \"    /// The model being trained.\"\n",
       "    ▿ 16 : 3 elements\n",
       "      - .0 : \"/notebooks/fastai_docs/dev_swift/FastaiNotebook_08_data_block/Sources/FastaiNotebook_08_data_block/04_callbacks.swift\"\n",
       "      - .1 : 106\n",
       "      - .2 : \"    public var model: Model\"\n",
       "    ▿ 17 : 3 elements\n",
       "      - .0 : \"/notebooks/fastai_docs/dev_swift/FastaiNotebook_08_data_block/Sources/FastaiNotebook_08_data_block/04_callbacks.swift\"\n",
       "      - .1 : 118\n",
       "      - .2 : \"    public private(set) var currentGradient: Model.CotangentVector = .zero\"\n",
       "    ▿ 18 : 3 elements\n",
       "      - .0 : \"/notebooks/fastai_docs/dev_swift/FastaiNotebook_08_data_block/Sources/FastaiNotebook_08_data_block/04_callbacks.swift\"\n",
       "      - .1 : 135\n",
       "      - .2 : \"        /// The completion of model training.\"\n",
       "    ▿ 19 : 3 elements\n",
       "      - .0 : \"/notebooks/fastai_docs/dev_swift/FastaiNotebook_08_data_block/Sources/FastaiNotebook_08_data_block/04_callbacks.swift\"\n",
       "      - .1 : 141\n",
       "      - .2 : \"        /// A closure which will be called upon the start of model validation.\"\n",
       "    ▿ 20 : 3 elements\n",
       "      - .0 : \"/notebooks/fastai_docs/dev_swift/FastaiNotebook_08_data_block/Sources/FastaiNotebook_08_data_block/04_callbacks.swift\"\n",
       "      - .1 : 165\n",
       "      - .2 : \"    ///   - optimizer: The optimizer used for updating model parameters.\"\n",
       "    ▿ 21 : 3 elements\n",
       "      - .0 : \"/notebooks/fastai_docs/dev_swift/FastaiNotebook_08_data_block/Sources/FastaiNotebook_08_data_block/04_callbacks.swift\"\n",
       "      - .1 : 166\n",
       "      - .2 : \"    ///   - modelInitializer: The closure that produces the model to be trained.\"\n",
       "    ▿ 22 : 3 elements\n",
       "      - .0 : \"/notebooks/fastai_docs/dev_swift/FastaiNotebook_08_data_block/Sources/FastaiNotebook_08_data_block/04_callbacks.swift\"\n",
       "      - .1 : 169\n",
       "      - .2 : \"                optFunc: (Model) -> Optimizer,\"\n",
       "    ▿ 23 : 3 elements\n",
       "      - .0 : \"/notebooks/fastai_docs/dev_swift/FastaiNotebook_08_data_block/Sources/FastaiNotebook_08_data_block/04_callbacks.swift\"\n",
       "      - .1 : 170\n",
       "      - .2 : \"                modelInit: () -> Model) {\"\n",
       "    ▿ 24 : 3 elements\n",
       "      - .0 : \"/notebooks/fastai_docs/dev_swift/FastaiNotebook_08_data_block/Sources/FastaiNotebook_08_data_block/04_callbacks.swift\"\n",
       "      - .1 : 173\n",
       "      - .2 : \"        model = modelInit()\"\n",
       "    ▿ 25 : 3 elements\n",
       "      - .0 : \"/notebooks/fastai_docs/dev_swift/FastaiNotebook_08_data_block/Sources/FastaiNotebook_08_data_block/04_callbacks.swift\"\n",
       "      - .1 : 174\n",
       "      - .2 : \"        opt = optFunc(self.model)\"\n",
       "    ▿ 26 : 3 elements\n",
       "      - .0 : \"/notebooks/fastai_docs/dev_swift/FastaiNotebook_08_data_block/Sources/FastaiNotebook_08_data_block/04_callbacks.swift\"\n",
       "      - .1 : 179\n",
       "      - .2 : \"    /// Trains the model on the given batch.\"\n",
       "    ▿ 27 : 3 elements\n",
       "      - .0 : \"/notebooks/fastai_docs/dev_swift/FastaiNotebook_08_data_block/Sources/FastaiNotebook_08_data_block/04_callbacks.swift\"\n",
       "      - .1 : 184\n",
       "      - .2 : \"        currentOutput = model(currentInput!)\"\n",
       "    ▿ 28 : 3 elements\n",
       "      - .0 : \"/notebooks/fastai_docs/dev_swift/FastaiNotebook_08_data_block/Sources/FastaiNotebook_08_data_block/04_callbacks.swift\"\n",
       "      - .1 : 190\n",
       "      - .2 : \"        (currentLoss, currentGradient) = model.valueWithGradient { model -> Loss in \"\n",
       "    ▿ 29 : 3 elements\n",
       "      - .0 : \"/notebooks/fastai_docs/dev_swift/FastaiNotebook_08_data_block/Sources/FastaiNotebook_08_data_block/04_callbacks.swift\"\n",
       "      - .1 : 191\n",
       "      - .2 : \"            let y = model(xb)                                      \"\n",
       "    ▿ 30 : 3 elements\n",
       "      - .0 : \"/notebooks/fastai_docs/dev_swift/FastaiNotebook_08_data_block/Sources/FastaiNotebook_08_data_block/04_callbacks.swift\"\n",
       "      - .1 : 196\n",
       "      - .2 : \"        opt.update(&model.allDifferentiableVariables, along: self.currentGradient)\"\n"
      ]
     },
     "execution_count": 9,
     "metadata": {},
     "output_type": "execute_result"
    }
   ],
   "source": [
    "ack(word: \"model\", path: \"/notebooks/fastai_docs/dev_swift/FastaiNotebook_08_data_block\") // Search in folder"
   ]
  },
  {
   "cell_type": "code",
   "execution_count": 10,
   "metadata": {},
   "outputs": [
    {
     "name": "stdout",
     "output_type": "stream",
     "text": [
      "05b_early_stopping.swift R:25         // A learning rate schedule from step to float.\r\n",
      "04_callbacks.swift R:123     /// The current epoch + iteration, float between 0.0 and epochCount\r\n",
      "05_anneal.swift R:150         // A learning rate schedule from step to float.\r\n"
     ]
    },
    {
     "data": {
      "text/plain": [
       "▿ Result<Array<(String, Int, String)>>\n",
       "  ▿ Ok : 3 elements\n",
       "    ▿ 0 : 3 elements\n",
       "      - .0 : \"/notebooks/fastai_docs/dev_swift/FastaiNotebook_08_data_block/Sources/FastaiNotebook_08_data_block/05b_early_stopping.swift\"\n",
       "      - .1 : 25\n",
       "      - .2 : \"        // A learning rate schedule from step to float.\"\n",
       "    ▿ 1 : 3 elements\n",
       "      - .0 : \"/notebooks/fastai_docs/dev_swift/FastaiNotebook_08_data_block/Sources/FastaiNotebook_08_data_block/04_callbacks.swift\"\n",
       "      - .1 : 123\n",
       "      - .2 : \"    /// The current epoch + iteration, float between 0.0 and epochCount\"\n",
       "    ▿ 2 : 3 elements\n",
       "      - .0 : \"/notebooks/fastai_docs/dev_swift/FastaiNotebook_08_data_block/Sources/FastaiNotebook_08_data_block/05_anneal.swift\"\n",
       "      - .1 : 150\n",
       "      - .2 : \"        // A learning rate schedule from step to float.\"\n"
      ]
     },
     "execution_count": 10,
     "metadata": {},
     "output_type": "execute_result"
    }
   ],
   "source": [
    "// Search case sensitive\n",
    "ack(word: \"float\", path: \"/notebooks/fastai_docs/dev_swift/FastaiNotebook_08_data_block\", caseInsensitive: false)"
   ]
  },
  {
   "cell_type": "code",
   "execution_count": 12,
   "metadata": {},
   "outputs": [
    {
     "data": {
      "text/plain": [
       "▿ Result<Array<(String, Int, String)>>\n",
       "  ▿ Error : ShellCommandError\n",
       "    - code : 1\n",
       "    - msg : \"\"\n"
      ]
     },
     "execution_count": 12,
     "metadata": {},
     "output_type": "execute_result"
    }
   ],
   "source": [
    "ack(word: \"xxxx\" + String(Int.random(in: 0 ..< 10))) // No result"
   ]
  },
  {
   "cell_type": "code",
   "execution_count": 14,
   "metadata": {},
   "outputs": [
    {
     "data": {
      "text/plain": [
       "▿ Result<Array<(String, Int, String)>>\n",
       "  ▿ Error : ShellCommandError\n",
       "    - code : 1\n",
       "    - msg : \"ack: /asd/asd: No such file or directory\\n\"\n"
      ]
     },
     "execution_count": 14,
     "metadata": {},
     "output_type": "execute_result"
    }
   ],
   "source": [
    "ack(word: \"xxxx\", path: \"/asd/asd\") // No result"
   ]
  },
  {
   "cell_type": "code",
   "execution_count": 13,
   "metadata": {},
   "outputs": [
    {
     "name": "stdout",
     "output_type": "stream",
     "text": [
      "Was last result successfull?? true\r\n"
     ]
    }
   ],
   "source": [
    "//No output\n",
    "let ret = ack(word: \"model\", path: \"/notebooks/fastai_docs/dev_swift/FastaiNotebook_08_data_block\", show: false)\n",
    "print(\"Was last result successfull??\", ret.isOk())"
   ]
  },
  {
   "cell_type": "code",
   "execution_count": null,
   "metadata": {},
   "outputs": [],
   "source": []
  },
  {
   "cell_type": "code",
   "execution_count": null,
   "metadata": {},
   "outputs": [],
   "source": []
  }
 ],
 "metadata": {
  "kernelspec": {
   "display_name": "Swift",
   "language": "swift",
   "name": "swift"
  },
  "language_info": {
   "file_extension": ".swift",
   "mimetype": "text/x-swift",
   "name": "swift",
   "version": ""
  }
 },
 "nbformat": 4,
 "nbformat_minor": 2
}
